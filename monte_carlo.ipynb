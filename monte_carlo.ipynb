{
  "nbformat": 4,
  "nbformat_minor": 0,
  "metadata": {
    "colab": {
      "provenance": [],
      "authorship_tag": "ABX9TyPPSnz/a5sPP8tVUcgdZqti",
      "include_colab_link": true
    },
    "kernelspec": {
      "name": "python3",
      "display_name": "Python 3"
    },
    "language_info": {
      "name": "python"
    }
  },
  "cells": [
    {
      "cell_type": "markdown",
      "metadata": {
        "id": "view-in-github",
        "colab_type": "text"
      },
      "source": [
        "<a href=\"https://colab.research.google.com/github/anaysingh/RL_Lab_21CSU011/blob/main/monte_carlo.ipynb\" target=\"_parent\"><img src=\"https://colab.research.google.com/assets/colab-badge.svg\" alt=\"Open In Colab\"/></a>"
      ]
    },
    {
      "cell_type": "code",
      "execution_count": 1,
      "metadata": {
        "colab": {
          "base_uri": "https://localhost:8080/"
        },
        "id": "DPm6xkV19R6G",
        "outputId": "42d61e28-5353-4800-ea61-89fb84fb7b16"
      },
      "outputs": [
        {
          "output_type": "stream",
          "name": "stdout",
          "text": [
            "Estimated value of π using 100000 samples: 3.1464\n"
          ]
        }
      ],
      "source": [
        "import random\n",
        "\n",
        "def monte_carlo_pi(num_samples):\n",
        "    inside_circle = 0\n",
        "\n",
        "    for _ in range(num_samples):\n",
        "        x = random.uniform(0, 1)\n",
        "        y = random.uniform(0, 1)\n",
        "\n",
        "        distance = x**2 + y**2\n",
        "\n",
        "        if distance <= 1:\n",
        "            inside_circle += 1\n",
        "\n",
        "    estimated_pi = (inside_circle / num_samples) * 4\n",
        "    return estimated_pi\n",
        "\n",
        "# Number of random samples\n",
        "num_samples = 100000\n",
        "\n",
        "# Estimate π using the Monte Carlo method\n",
        "estimated_pi = monte_carlo_pi(num_samples)\n",
        "\n",
        "print(f\"Estimated value of π using {num_samples} samples: {estimated_pi}\")\n"
      ]
    }
  ]
}