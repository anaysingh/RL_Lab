{
  "nbformat": 4,
  "nbformat_minor": 0,
  "metadata": {
    "colab": {
      "provenance": [],
      "authorship_tag": "ABX9TyMYZksAyVN6NBR/8XvSCt0s",
      "include_colab_link": true
    },
    "kernelspec": {
      "name": "python3",
      "display_name": "Python 3"
    },
    "language_info": {
      "name": "python"
    }
  },
  "cells": [
    {
      "cell_type": "markdown",
      "metadata": {
        "id": "view-in-github",
        "colab_type": "text"
      },
      "source": [
        "<a href=\"https://colab.research.google.com/github/anaysingh/RL_Lab_21CSU011/blob/main/mdp_practical.ipynb\" target=\"_parent\"><img src=\"https://colab.research.google.com/assets/colab-badge.svg\" alt=\"Open In Colab\"/></a>"
      ]
    },
    {
      "cell_type": "code",
      "execution_count": 1,
      "metadata": {
        "colab": {
          "base_uri": "https://localhost:8080/"
        },
        "id": "VRMPNx1s82Dj",
        "outputId": "74861223-26ec-4307-d353-ee813f435462"
      },
      "outputs": [
        {
          "output_type": "stream",
          "name": "stdout",
          "text": [
            "Current State: B\n",
            "Current State: C\n",
            "Current State: C\n",
            "Current State: C\n",
            "Current State: B\n",
            "Current State: C\n",
            "Current State: A\n",
            "Current State: A\n",
            "Current State: A\n",
            "Current State: A\n"
          ]
        }
      ],
      "source": [
        "import random\n",
        "\n",
        "class MarkovProcess:\n",
        "    def __init__(self, states, transition_matrix):\n",
        "        self.states = states\n",
        "        self.transition_matrix = transition_matrix\n",
        "        self.current_state = random.choice(states)\n",
        "\n",
        "    def next_state(self):\n",
        "        next_state = random.choices(self.states, weights=self.transition_matrix[self.current_state])[0]\n",
        "        self.current_state = next_state\n",
        "        return next_state\n",
        "\n",
        "# Example usage\n",
        "states = ['A', 'B', 'C']\n",
        "transition_matrix = {\n",
        "    'A': [0.7, 0.2, 0.1],\n",
        "    'B': [0.3, 0.4, 0.3],\n",
        "    'C': [0.1, 0.3, 0.6],\n",
        "}\n",
        "\n",
        "markov_process = MarkovProcess(states, transition_matrix)\n",
        "\n",
        "# Simulate the process for 10 steps\n",
        "for _ in range(10):\n",
        "    print(f\"Current State: {markov_process.current_state}\")\n",
        "    markov_process.next_state()\n"
      ]
    },
    {
      "cell_type": "code",
      "source": [],
      "metadata": {
        "id": "0q6cd8h182vZ"
      },
      "execution_count": null,
      "outputs": []
    }
  ]
}