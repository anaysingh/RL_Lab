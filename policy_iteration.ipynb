{
  "nbformat": 4,
  "nbformat_minor": 0,
  "metadata": {
    "colab": {
      "provenance": [],
      "authorship_tag": "ABX9TyPmsF3tAHFnCMZ4U8xpD3IW",
      "include_colab_link": true
    },
    "kernelspec": {
      "name": "python3",
      "display_name": "Python 3"
    },
    "language_info": {
      "name": "python"
    }
  },
  "cells": [
    {
      "cell_type": "markdown",
      "metadata": {
        "id": "view-in-github",
        "colab_type": "text"
      },
      "source": [
        "<a href=\"https://colab.research.google.com/github/anaysingh/RL_Lab_21CSU011/blob/main/policy_iteration.ipynb\" target=\"_parent\"><img src=\"https://colab.research.google.com/assets/colab-badge.svg\" alt=\"Open In Colab\"/></a>"
      ]
    },
    {
      "cell_type": "code",
      "execution_count": 1,
      "metadata": {
        "colab": {
          "base_uri": "https://localhost:8080/"
        },
        "id": "iYGWJev_5h2V",
        "outputId": "318d2ae5-6339-4309-b8f9-9a610b37f884"
      },
      "outputs": [
        {
          "output_type": "stream",
          "name": "stdout",
          "text": [
            "Optimal Policy:\n",
            "['r' 'r' 'r']\n",
            "['r' 'r' 'r']\n",
            "['r' 'r' 'r']\n",
            "\n",
            "Optimal Value Function:\n",
            "[[0. 0. 0.]\n",
            " [0. 0. 0.]\n",
            " [0. 0. 0.]]\n"
          ]
        },
        {
          "output_type": "stream",
          "name": "stderr",
          "text": [
            "<ipython-input-1-4f9ccff5ef39>:62: DeprecationWarning: `np.str` is a deprecated alias for the builtin `str`. To silence this warning, use `str` by itself. Doing this will not modify any behavior and is safe. If you specifically wanted the numpy scalar type, use `np.str_` here.\n",
            "Deprecated in NumPy 1.20; for more details and guidance: https://numpy.org/devdocs/release/1.20.0-notes.html#deprecations\n",
            "  policy = np.full((grid_world.rows, grid_world.cols), 'right', dtype=np.str)\n"
          ]
        }
      ],
      "source": [
        "import numpy as np\n",
        "\n",
        "class GridWorld:\n",
        "    def __init__(self, rows, cols):\n",
        "        self.rows = rows\n",
        "        self.cols = cols\n",
        "        self.state = (0, 0)\n",
        "\n",
        "    def is_terminal(self, state):\n",
        "        return state == (self.rows - 1, self.cols - 1)\n",
        "\n",
        "    def step(self, action):\n",
        "        if action == 'right':\n",
        "            next_state = (self.state[0], min(self.state[1] + 1, self.cols - 1))\n",
        "        elif action == 'down':\n",
        "            next_state = (min(self.state[0] + 1, self.rows - 1), self.state[1])\n",
        "        else:\n",
        "            next_state = self.state\n",
        "\n",
        "        reward = -1 if not self.is_terminal(self.state) else 0\n",
        "        self.state = next_state\n",
        "        return next_state, reward\n",
        "\n",
        "def policy_evaluation(policy, values, grid_world, gamma):\n",
        "    epsilon = 1e-6\n",
        "    while True:\n",
        "        delta = 0\n",
        "        for i in range(grid_world.rows):\n",
        "            for j in range(grid_world.cols):\n",
        "                if not grid_world.is_terminal((i, j)):\n",
        "                    old_value = values[i, j]\n",
        "                    action = policy[i, j]\n",
        "                    next_state, reward = grid_world.step(action)\n",
        "                    values[i, j] = reward + gamma * values[next_state]\n",
        "                    delta = max(delta, abs(old_value - values[i, j]))\n",
        "\n",
        "        if delta < epsilon:\n",
        "            break\n",
        "\n",
        "def policy_improvement(policy, values, grid_world, gamma):\n",
        "    policy_stable = True\n",
        "    for i in range(grid_world.rows):\n",
        "        for j in range(grid_world.cols):\n",
        "            if not grid_world.is_terminal((i, j)):\n",
        "                old_action = policy[i, j]\n",
        "                possible_actions = ['right', 'down']  # Actions for the current environment\n",
        "                action_values = []\n",
        "\n",
        "                for action in possible_actions:\n",
        "                    next_state, reward = grid_world.step(action)\n",
        "                    action_values.append(reward + gamma * values[next_state])\n",
        "\n",
        "                best_action = possible_actions[np.argmax(action_values)]\n",
        "                policy[i, j] = best_action\n",
        "\n",
        "                if old_action != best_action:\n",
        "                    policy_stable = False\n",
        "\n",
        "    return policy_stable\n",
        "\n",
        "def policy_iteration(grid_world, gamma, max_iterations=100):\n",
        "    policy = np.full((grid_world.rows, grid_world.cols), 'right', dtype=np.str)\n",
        "    values = np.zeros((grid_world.rows, grid_world.cols))\n",
        "\n",
        "    for _ in range(max_iterations):\n",
        "        policy_evaluation(policy, values, grid_world, gamma)\n",
        "        stable = policy_improvement(policy, values, grid_world, gamma)\n",
        "\n",
        "        if stable:\n",
        "            break\n",
        "\n",
        "    return policy, values\n",
        "\n",
        "def print_policy(policy):\n",
        "    for row in policy:\n",
        "        print(row)\n",
        "\n",
        "if __name__ == \"__main__\":\n",
        "    grid_world = GridWorld(rows=3, cols=3)\n",
        "    gamma = 0.9  # Discount factor\n",
        "\n",
        "    optimal_policy, optimal_values = policy_iteration(grid_world, gamma)\n",
        "\n",
        "    print(\"Optimal Policy:\")\n",
        "    print_policy(optimal_policy)\n",
        "\n",
        "    print(\"\\nOptimal Value Function:\")\n",
        "    print(optimal_values)\n"
      ]
    }
  ]
}