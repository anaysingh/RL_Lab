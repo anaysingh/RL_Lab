{
  "cells": [
    {
      "cell_type": "markdown",
      "metadata": {
        "id": "view-in-github",
        "colab_type": "text"
      },
      "source": [
        "<a href=\"https://colab.research.google.com/github/anaysingh/RL_Lab_21CSU011/blob/main/Probability_Experiment_21CSU011.ipynb\" target=\"_parent\"><img src=\"https://colab.research.google.com/assets/colab-badge.svg\" alt=\"Open In Colab\"/></a>"
      ]
    },
    {
      "cell_type": "code",
      "execution_count": null,
      "id": "8cec2a16",
      "metadata": {
        "id": "8cec2a16"
      },
      "outputs": [],
      "source": [
        "import pandas as pd\n",
        "import numpy as np"
      ]
    },
    {
      "cell_type": "code",
      "execution_count": null,
      "id": "955f0e69",
      "metadata": {
        "id": "955f0e69",
        "outputId": "0bf50e8e-b126-4ccd-cc57-c304f24da76f"
      },
      "outputs": [
        {
          "data": {
            "text/html": [
              "<div>\n",
              "<style scoped>\n",
              "    .dataframe tbody tr th:only-of-type {\n",
              "        vertical-align: middle;\n",
              "    }\n",
              "\n",
              "    .dataframe tbody tr th {\n",
              "        vertical-align: top;\n",
              "    }\n",
              "\n",
              "    .dataframe thead th {\n",
              "        text-align: right;\n",
              "    }\n",
              "</style>\n",
              "<table border=\"1\" class=\"dataframe\">\n",
              "  <thead>\n",
              "    <tr style=\"text-align: right;\">\n",
              "      <th></th>\n",
              "      <th>school</th>\n",
              "      <th>sex</th>\n",
              "      <th>age</th>\n",
              "      <th>address</th>\n",
              "      <th>famsize</th>\n",
              "      <th>Pstatus</th>\n",
              "      <th>Medu</th>\n",
              "      <th>Fedu</th>\n",
              "      <th>Mjob</th>\n",
              "      <th>Fjob</th>\n",
              "      <th>...</th>\n",
              "      <th>famrel</th>\n",
              "      <th>freetime</th>\n",
              "      <th>goout</th>\n",
              "      <th>Dalc</th>\n",
              "      <th>Walc</th>\n",
              "      <th>health</th>\n",
              "      <th>absences</th>\n",
              "      <th>G1</th>\n",
              "      <th>G2</th>\n",
              "      <th>G3</th>\n",
              "    </tr>\n",
              "  </thead>\n",
              "  <tbody>\n",
              "    <tr>\n",
              "      <th>0</th>\n",
              "      <td>GP</td>\n",
              "      <td>F</td>\n",
              "      <td>18</td>\n",
              "      <td>U</td>\n",
              "      <td>GT3</td>\n",
              "      <td>A</td>\n",
              "      <td>4</td>\n",
              "      <td>4</td>\n",
              "      <td>at_home</td>\n",
              "      <td>teacher</td>\n",
              "      <td>...</td>\n",
              "      <td>4</td>\n",
              "      <td>3</td>\n",
              "      <td>4</td>\n",
              "      <td>1</td>\n",
              "      <td>1</td>\n",
              "      <td>3</td>\n",
              "      <td>6</td>\n",
              "      <td>5</td>\n",
              "      <td>6</td>\n",
              "      <td>6</td>\n",
              "    </tr>\n",
              "    <tr>\n",
              "      <th>1</th>\n",
              "      <td>GP</td>\n",
              "      <td>F</td>\n",
              "      <td>17</td>\n",
              "      <td>U</td>\n",
              "      <td>GT3</td>\n",
              "      <td>T</td>\n",
              "      <td>1</td>\n",
              "      <td>1</td>\n",
              "      <td>at_home</td>\n",
              "      <td>other</td>\n",
              "      <td>...</td>\n",
              "      <td>5</td>\n",
              "      <td>3</td>\n",
              "      <td>3</td>\n",
              "      <td>1</td>\n",
              "      <td>1</td>\n",
              "      <td>3</td>\n",
              "      <td>4</td>\n",
              "      <td>5</td>\n",
              "      <td>5</td>\n",
              "      <td>6</td>\n",
              "    </tr>\n",
              "    <tr>\n",
              "      <th>2</th>\n",
              "      <td>GP</td>\n",
              "      <td>F</td>\n",
              "      <td>15</td>\n",
              "      <td>U</td>\n",
              "      <td>LE3</td>\n",
              "      <td>T</td>\n",
              "      <td>1</td>\n",
              "      <td>1</td>\n",
              "      <td>at_home</td>\n",
              "      <td>other</td>\n",
              "      <td>...</td>\n",
              "      <td>4</td>\n",
              "      <td>3</td>\n",
              "      <td>2</td>\n",
              "      <td>2</td>\n",
              "      <td>3</td>\n",
              "      <td>3</td>\n",
              "      <td>10</td>\n",
              "      <td>7</td>\n",
              "      <td>8</td>\n",
              "      <td>10</td>\n",
              "    </tr>\n",
              "  </tbody>\n",
              "</table>\n",
              "<p>3 rows × 33 columns</p>\n",
              "</div>"
            ],
            "text/plain": [
              "  school sex  age address famsize Pstatus  Medu  Fedu     Mjob     Fjob  ...  \\\n",
              "0     GP   F   18       U     GT3       A     4     4  at_home  teacher  ...   \n",
              "1     GP   F   17       U     GT3       T     1     1  at_home    other  ...   \n",
              "2     GP   F   15       U     LE3       T     1     1  at_home    other  ...   \n",
              "\n",
              "  famrel freetime  goout  Dalc  Walc health absences G1 G2  G3  \n",
              "0      4        3      4     1     1      3        6  5  6   6  \n",
              "1      5        3      3     1     1      3        4  5  5   6  \n",
              "2      4        3      2     2     3      3       10  7  8  10  \n",
              "\n",
              "[3 rows x 33 columns]"
            ]
          },
          "execution_count": 2,
          "metadata": {},
          "output_type": "execute_result"
        }
      ],
      "source": [
        "df = pd.read_csv('student-mat.csv')\n",
        "df.head(3)"
      ]
    },
    {
      "cell_type": "code",
      "execution_count": null,
      "id": "89729623",
      "metadata": {
        "id": "89729623",
        "outputId": "c73f4539-e277-4ae4-b182-675b429874b7"
      },
      "outputs": [
        {
          "data": {
            "text/plain": [
              "395"
            ]
          },
          "execution_count": 4,
          "metadata": {},
          "output_type": "execute_result"
        }
      ],
      "source": [
        "len(df)"
      ]
    },
    {
      "cell_type": "markdown",
      "id": "6ba9eea6",
      "metadata": {
        "id": "6ba9eea6"
      },
      "source": [
        "Add a boolean column called grade_A noting if a student achieved 80% or higher as a final score. Original values are on a 0–20 scale so we multiply by 5."
      ]
    },
    {
      "cell_type": "code",
      "execution_count": null,
      "id": "8abfa11d",
      "metadata": {
        "id": "8abfa11d",
        "outputId": "d9110c67-1190-4fc4-fd58-ebee7e1ffb55"
      },
      "outputs": [
        {
          "data": {
            "text/plain": [
              "0      30\n",
              "1      30\n",
              "2      50\n",
              "3      75\n",
              "4      50\n",
              "       ..\n",
              "390    45\n",
              "391    80\n",
              "392    35\n",
              "393    50\n",
              "394    45\n",
              "Name: G3, Length: 395, dtype: int64"
            ]
          },
          "execution_count": 5,
          "metadata": {},
          "output_type": "execute_result"
        }
      ],
      "source": [
        "x = df['G3']*5\n",
        "x"
      ]
    },
    {
      "cell_type": "code",
      "execution_count": null,
      "id": "9fe04db5",
      "metadata": {
        "id": "9fe04db5",
        "outputId": "5e0f578e-cfb7-4853-a805-a2563698b974"
      },
      "outputs": [
        {
          "data": {
            "text/html": [
              "<div>\n",
              "<style scoped>\n",
              "    .dataframe tbody tr th:only-of-type {\n",
              "        vertical-align: middle;\n",
              "    }\n",
              "\n",
              "    .dataframe tbody tr th {\n",
              "        vertical-align: top;\n",
              "    }\n",
              "\n",
              "    .dataframe thead th {\n",
              "        text-align: right;\n",
              "    }\n",
              "</style>\n",
              "<table border=\"1\" class=\"dataframe\">\n",
              "  <thead>\n",
              "    <tr style=\"text-align: right;\">\n",
              "      <th></th>\n",
              "      <th>absences</th>\n",
              "      <th>G3</th>\n",
              "    </tr>\n",
              "  </thead>\n",
              "  <tbody>\n",
              "    <tr>\n",
              "      <th>0</th>\n",
              "      <td>6</td>\n",
              "      <td>6</td>\n",
              "    </tr>\n",
              "    <tr>\n",
              "      <th>1</th>\n",
              "      <td>4</td>\n",
              "      <td>6</td>\n",
              "    </tr>\n",
              "    <tr>\n",
              "      <th>2</th>\n",
              "      <td>10</td>\n",
              "      <td>10</td>\n",
              "    </tr>\n",
              "    <tr>\n",
              "      <th>3</th>\n",
              "      <td>2</td>\n",
              "      <td>15</td>\n",
              "    </tr>\n",
              "    <tr>\n",
              "      <th>4</th>\n",
              "      <td>4</td>\n",
              "      <td>10</td>\n",
              "    </tr>\n",
              "    <tr>\n",
              "      <th>...</th>\n",
              "      <td>...</td>\n",
              "      <td>...</td>\n",
              "    </tr>\n",
              "    <tr>\n",
              "      <th>390</th>\n",
              "      <td>11</td>\n",
              "      <td>9</td>\n",
              "    </tr>\n",
              "    <tr>\n",
              "      <th>391</th>\n",
              "      <td>3</td>\n",
              "      <td>16</td>\n",
              "    </tr>\n",
              "    <tr>\n",
              "      <th>392</th>\n",
              "      <td>3</td>\n",
              "      <td>7</td>\n",
              "    </tr>\n",
              "    <tr>\n",
              "      <th>393</th>\n",
              "      <td>0</td>\n",
              "      <td>10</td>\n",
              "    </tr>\n",
              "    <tr>\n",
              "      <th>394</th>\n",
              "      <td>5</td>\n",
              "      <td>9</td>\n",
              "    </tr>\n",
              "  </tbody>\n",
              "</table>\n",
              "<p>395 rows × 2 columns</p>\n",
              "</div>"
            ],
            "text/plain": [
              "     absences  G3\n",
              "0           6   6\n",
              "1           4   6\n",
              "2          10  10\n",
              "3           2  15\n",
              "4           4  10\n",
              "..        ...  ..\n",
              "390        11   9\n",
              "391         3  16\n",
              "392         3   7\n",
              "393         0  10\n",
              "394         5   9\n",
              "\n",
              "[395 rows x 2 columns]"
            ]
          },
          "execution_count": 6,
          "metadata": {},
          "output_type": "execute_result"
        }
      ],
      "source": [
        "pivot = df.iloc[0:395][['absences','G3']]\n",
        "pivot"
      ]
    },
    {
      "cell_type": "code",
      "execution_count": null,
      "id": "a1eabf82",
      "metadata": {
        "id": "a1eabf82",
        "outputId": "9470078c-5d53-4b8d-d343-aaf283b99768"
      },
      "outputs": [
        {
          "name": "stdout",
          "output_type": "stream",
          "text": [
            "3\n"
          ]
        }
      ],
      "source": [
        "count = len(pivot[(pivot['absences']>10) &(pivot['G3']>16)])\n",
        "print(count)"
      ]
    },
    {
      "cell_type": "code",
      "execution_count": null,
      "id": "34cb9192",
      "metadata": {
        "id": "34cb9192",
        "outputId": "eac1422f-7002-46a2-e4e4-60d96ff5f240"
      },
      "outputs": [
        {
          "name": "stdout",
          "output_type": "stream",
          "text": [
            "66\n"
          ]
        }
      ],
      "source": [
        "count1 = len(pivot[pivot['absences']>10])\n",
        "print(count1)"
      ]
    },
    {
      "cell_type": "code",
      "execution_count": null,
      "id": "3bfb6a66",
      "metadata": {
        "id": "3bfb6a66",
        "outputId": "3af19017-3070-4b5b-aa78-507e7233394c"
      },
      "outputs": [
        {
          "name": "stdout",
          "output_type": "stream",
          "text": [
            "24\n"
          ]
        }
      ],
      "source": [
        "count2 = len(pivot[(pivot['G3']>16)])\n",
        "print(count2)"
      ]
    },
    {
      "cell_type": "code",
      "execution_count": null,
      "id": "4836164e",
      "metadata": {
        "id": "4836164e"
      },
      "outputs": [],
      "source": [
        "P_a_intersection_b = count/395\n",
        "P_a = count2/395\n",
        "P_b = count1/395"
      ]
    },
    {
      "cell_type": "code",
      "execution_count": null,
      "id": "1ad8ea4f",
      "metadata": {
        "id": "1ad8ea4f",
        "outputId": "59ce4760-2b00-4b76-9cee-30256c17187c"
      },
      "outputs": [
        {
          "data": {
            "text/plain": [
              "0.04545454545454545"
            ]
          },
          "execution_count": 11,
          "metadata": {},
          "output_type": "execute_result"
        }
      ],
      "source": [
        "P = P_a_intersection_b/P_b\n",
        "P"
      ]
    },
    {
      "cell_type": "markdown",
      "id": "ee75278a",
      "metadata": {
        "id": "ee75278a"
      },
      "source": [
        "Ques 2. THE BIRTHDAY PROBLEM Compute the probability of getting a minimum of one overlapping birthday in a random group of 23 peoples. Because ontaining random sample again and again is tedious task, we can do simulations on a computer with assumptions. The birthdays are independent of each other. Each possible birthday has the same probability. There are only 365 possible birthdays (not 366, as ignoring the leap year. Hint : in other words, we're modelling the process as drawing 23 independent samples from a discrete uniform distribution with parameter n = 365."
      ]
    },
    {
      "cell_type": "code",
      "execution_count": null,
      "id": "30a7522b",
      "metadata": {
        "id": "30a7522b",
        "outputId": "85a2290d-f615-410a-9ab8-71ff06ddf63a"
      },
      "outputs": [
        {
          "name": "stdout",
          "output_type": "stream",
          "text": [
            "Estimated P(ALOC) after 10000 trials: 0.5128\n"
          ]
        }
      ],
      "source": [
        "from random import randint\n",
        "\n",
        "\n",
        "NUM_PEOPLE = 23\n",
        "NUM_POSSIBLE_BIRTHDAYS = 365\n",
        "NUM_TRIALS = 10000\n",
        "\n",
        "\n",
        "def generate_random_birthday():\n",
        "    birthday = randint(1, NUM_POSSIBLE_BIRTHDAYS)\n",
        "    return birthday\n",
        "\n",
        "\n",
        "def generate_k_birthdays(k):\n",
        "    birthdays = [generate_random_birthday() for _ in range(k)]\n",
        "    return birthdays\n",
        "\n",
        "\n",
        "def aloc(birthdays):\n",
        "    unique_birthdays = set(birthdays)\n",
        "\n",
        "    num_birthdays = len(birthdays)\n",
        "    num_unique_birthdays = len(unique_birthdays)\n",
        "    has_coincidence = (num_birthdays != num_unique_birthdays)\n",
        "\n",
        "    return has_coincidence\n",
        "\n",
        "\n",
        "def estimate_p_aloc():\n",
        "    num_aloc = 0\n",
        "    for _ in range(NUM_TRIALS):\n",
        "        birthdays = generate_k_birthdays(NUM_PEOPLE)\n",
        "        has_coincidence = aloc(birthdays)\n",
        "        if has_coincidence:\n",
        "            num_aloc += 1\n",
        "\n",
        "    p_aloc = num_aloc / NUM_TRIALS\n",
        "    return p_aloc\n",
        "\n",
        "\n",
        "p_aloc = estimate_p_aloc()\n",
        "print(f\"Estimated P(ALOC) after {NUM_TRIALS} trials: {p_aloc}\")"
      ]
    },
    {
      "cell_type": "markdown",
      "id": "54316a32",
      "metadata": {
        "id": "54316a32"
      },
      "source": [
        "Ques 3. The weight of certain species of frog is uniformly distributed from 15 and 25 grams. if you randomly select a frog, what is the probability that the frog weights between 17 and 19 grams."
      ]
    },
    {
      "cell_type": "code",
      "execution_count": null,
      "id": "e10958df",
      "metadata": {
        "id": "e10958df",
        "outputId": "7aa969de-617d-4861-ebfd-7ede91a8b70e"
      },
      "outputs": [
        {
          "data": {
            "text/plain": [
              "0.2"
            ]
          },
          "execution_count": 13,
          "metadata": {},
          "output_type": "execute_result"
        }
      ],
      "source": [
        "from scipy.stats import uniform\n",
        "uniform.cdf(x=19, loc = 15, scale =10) -uniform.cdf(x=17, loc =15, scale=10)"
      ]
    },
    {
      "cell_type": "markdown",
      "id": "d7fda778",
      "metadata": {
        "id": "d7fda778"
      },
      "source": [
        "Ques 4. Telecommunication Industry According to the Telecommunication Industry the average monthly cell phone bill is Rs. 1000 with a standard deviation of Rs. 200.\n",
        "\n",
        "What is the probability that a randomly selected cell phone bill is more than Rs 1200? What is the probability that a randomly selected cell phone bill is between Rs 750 and Rs 1200? What is the probability that a randomly selected cell phone bill is no more than Rs 650? What is the amount above which lies top 15% of cell phone bills? What is the amount below which lies bottom 25% of cell phone bills?\n",
        "\n",
        "Note: This is a problem of normal probability distribution. Though the distribution is not mentioned, in absence of any other information we assume normality in the population."
      ]
    },
    {
      "cell_type": "code",
      "execution_count": null,
      "id": "09984a19",
      "metadata": {
        "id": "09984a19",
        "outputId": "1986b6ba-bf42-4e8c-cff7-b5f2b2dc89e0"
      },
      "outputs": [
        {
          "name": "stdout",
          "output_type": "stream",
          "text": [
            "0.15865525393145707\n",
            "0.6826894921370859\n"
          ]
        },
        {
          "data": {
            "text/plain": [
              "865.1020499607837"
            ]
          },
          "execution_count": 14,
          "metadata": {},
          "output_type": "execute_result"
        }
      ],
      "source": [
        "from scipy import stats\n",
        "a = stats.norm.cdf(1200,1000,200)\n",
        "g = 1-a\n",
        "print(g)\n",
        "\n",
        "b= stats.norm.cdf(750,1000,200)\n",
        "print(a-g)\n",
        "stats.norm.ppf(.15,1000,200)\n",
        "\n",
        "stats.norm.ppf(.25,1000,200)\n"
      ]
    },
    {
      "cell_type": "markdown",
      "id": "d2ecca6d",
      "metadata": {
        "id": "d2ecca6d"
      },
      "source": [
        "Q5. Fruit problem Suppose we own a fruit shop and on an average 3 customers arrive in the shop every 10 minutes. The mean rate here is 3 or λ = 3. Poisson probability distributions can help us answer questions like what is the probability that 5 customers will arrive in the next 10 mins?"
      ]
    },
    {
      "cell_type": "code",
      "execution_count": null,
      "id": "ccfbbb4b",
      "metadata": {
        "id": "ccfbbb4b",
        "outputId": "72d0c24f-016a-40d5-bd61-0de19277bfc5"
      },
      "outputs": [
        {
          "data": {
            "text/plain": [
              "0.9160820579686966"
            ]
          },
          "execution_count": 15,
          "metadata": {},
          "output_type": "execute_result"
        }
      ],
      "source": [
        "from scipy.stats import poisson\n",
        "poisson.cdf(k=5, mu=3)"
      ]
    },
    {
      "cell_type": "code",
      "execution_count": null,
      "id": "bed46e68",
      "metadata": {
        "id": "bed46e68"
      },
      "outputs": [],
      "source": []
    }
  ],
  "metadata": {
    "kernelspec": {
      "display_name": "Python 3 (ipykernel)",
      "language": "python",
      "name": "python3"
    },
    "language_info": {
      "codemirror_mode": {
        "name": "ipython",
        "version": 3
      },
      "file_extension": ".py",
      "mimetype": "text/x-python",
      "name": "python",
      "nbconvert_exporter": "python",
      "pygments_lexer": "ipython3",
      "version": "3.10.9"
    },
    "colab": {
      "provenance": [],
      "include_colab_link": true
    }
  },
  "nbformat": 4,
  "nbformat_minor": 5
}