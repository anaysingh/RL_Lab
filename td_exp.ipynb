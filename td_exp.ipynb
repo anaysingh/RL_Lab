{
  "nbformat": 4,
  "nbformat_minor": 0,
  "metadata": {
    "colab": {
      "provenance": [],
      "authorship_tag": "ABX9TyNVDOmg5IGjZ5s9zXYqCUFa",
      "include_colab_link": true
    },
    "kernelspec": {
      "name": "python3",
      "display_name": "Python 3"
    },
    "language_info": {
      "name": "python"
    }
  },
  "cells": [
    {
      "cell_type": "markdown",
      "metadata": {
        "id": "view-in-github",
        "colab_type": "text"
      },
      "source": [
        "<a href=\"https://colab.research.google.com/github/anaysingh/RL_Lab_21CSU011/blob/main/td_exp.ipynb\" target=\"_parent\"><img src=\"https://colab.research.google.com/assets/colab-badge.svg\" alt=\"Open In Colab\"/></a>"
      ]
    },
    {
      "cell_type": "code",
      "execution_count": 1,
      "metadata": {
        "colab": {
          "base_uri": "https://localhost:8080/"
        },
        "id": "USsnUGx23yhK",
        "outputId": "a2994e27-a33e-4406-968b-14692cc6d918"
      },
      "outputs": [
        {
          "output_type": "stream",
          "name": "stdout",
          "text": [
            "Learned Value Function:\n",
            "[-1.94207917e-47  0.00000000e+00  0.00000000e+00]\n",
            "[-0.1  0.   0. ]\n",
            "[-0.1 -0.1  0. ]\n"
          ]
        }
      ],
      "source": [
        "import numpy as np\n",
        "\n",
        "class GridWorld:\n",
        "    def __init__(self, rows, cols):\n",
        "        self.rows = rows\n",
        "        self.cols = cols\n",
        "        self.state = (0, 0)\n",
        "\n",
        "    def is_terminal(self, state):\n",
        "        return state == (self.rows - 1, self.cols - 1)\n",
        "\n",
        "    def step(self, action):\n",
        "        if action == 'right':\n",
        "            next_state = (self.state[0], min(self.state[1] + 1, self.cols - 1))\n",
        "        elif action == 'down':\n",
        "            next_state = (min(self.state[0] + 1, self.rows - 1), self.state[1])\n",
        "        else:\n",
        "            next_state = self.state\n",
        "\n",
        "        reward = -1 if not self.is_terminal(self.state) else 0\n",
        "        self.state = next_state\n",
        "        return next_state, reward\n",
        "\n",
        "def td_learning(grid_world, alpha, gamma, episodes):\n",
        "    values = np.zeros((grid_world.rows, grid_world.cols))\n",
        "\n",
        "    for _ in range(episodes):\n",
        "        state = (0, 0)\n",
        "        while not grid_world.is_terminal(state):\n",
        "            action = 'right' if np.random.rand() < 0.5 else 'down'\n",
        "\n",
        "            next_state, reward = grid_world.step(action)\n",
        "\n",
        "            # Update the value function using TD(0) update\n",
        "            values[state] += alpha * (reward + gamma * values[next_state] - values[state])\n",
        "\n",
        "            state = next_state\n",
        "\n",
        "    return values\n",
        "\n",
        "def print_values(values):\n",
        "    for row in values:\n",
        "        print(row)\n",
        "\n",
        "if __name__ == \"__main__\":\n",
        "    grid_world = GridWorld(rows=3, cols=3)\n",
        "    alpha = 0.1  # Learning rate\n",
        "    gamma = 0.9  # Discount factor\n",
        "    episodes = 1000\n",
        "\n",
        "    learned_values = td_learning(grid_world, alpha, gamma, episodes)\n",
        "\n",
        "    print(\"Learned Value Function:\")\n",
        "    print_values(learned_values)\n"
      ]
    },
    {
      "cell_type": "code",
      "source": [],
      "metadata": {
        "id": "9lY7-8EI3zw2"
      },
      "execution_count": null,
      "outputs": []
    }
  ]
}