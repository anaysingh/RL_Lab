{
  "nbformat": 4,
  "nbformat_minor": 0,
  "metadata": {
    "colab": {
      "provenance": [],
      "authorship_tag": "ABX9TyO2s5UjIyJ4YDaeLtEDBupt",
      "include_colab_link": true
    },
    "kernelspec": {
      "name": "python3",
      "display_name": "Python 3"
    },
    "language_info": {
      "name": "python"
    }
  },
  "cells": [
    {
      "cell_type": "markdown",
      "metadata": {
        "id": "view-in-github",
        "colab_type": "text"
      },
      "source": [
        "<a href=\"https://colab.research.google.com/github/anaysingh/RL_Lab_21CSU011/blob/main/q_learning.ipynb\" target=\"_parent\"><img src=\"https://colab.research.google.com/assets/colab-badge.svg\" alt=\"Open In Colab\"/></a>"
      ]
    },
    {
      "cell_type": "code",
      "execution_count": 2,
      "metadata": {
        "colab": {
          "base_uri": "https://localhost:8080/"
        },
        "id": "HFtna4O9x_CD",
        "outputId": "eed6e922-5061-4aa0-be50-815db948ef83"
      },
      "outputs": [
        {
          "output_type": "stream",
          "name": "stdout",
          "text": [
            "Learned Q-Table:\n",
            "[[-4.68558643 -4.0951    ]\n",
            " [-4.09507321 -3.439     ]\n",
            " [-3.43898647 -2.71      ]\n",
            " [-2.70998658 -1.9       ]\n",
            " [-1.8999957  -1.        ]\n",
            " [ 0.          0.        ]]\n",
            "Optimal Policy:\n",
            "[1 1 1 1 1 0]\n"
          ]
        }
      ],
      "source": [
        "import numpy as np\n",
        "\n",
        "# Define the environment as a grid with states and actions\n",
        "num_states = 6\n",
        "num_actions = 2\n",
        "num_episodes = 1000\n",
        "\n",
        "# Define the Q-table to store Q-values for state-action pairs\n",
        "Q = np.zeros((num_states, num_actions))\n",
        "\n",
        "# Set hyperparameters\n",
        "learning_rate = 0.1\n",
        "discount_factor = 0.9\n",
        "exploration_prob = 0.2\n",
        "\n",
        "# Define the reward structure as a matrix\n",
        "rewards = np.array([\n",
        "    [-1, -1],\n",
        "    [-1, -1],\n",
        "    [-1, -1],\n",
        "    [-1, -1],\n",
        "    [-1, -1],\n",
        "    [10, -1]  # Reaching the goal state with action \"Left\" yields a reward of 10\n",
        "])\n",
        "\n",
        "# Q-learning algorithm\n",
        "for episode in range(num_episodes):\n",
        "    state = 0  # Starting state\n",
        "    done = False\n",
        "    while not done:\n",
        "        # Choose an action using epsilon-greedy policy\n",
        "        if np.random.uniform(0, 1) < exploration_prob:\n",
        "            action = np.random.choice(num_actions)  # Explore\n",
        "        else:\n",
        "            action = np.argmax(Q[state, :])  # Exploit\n",
        "\n",
        "        # Take the chosen action and observe the next state and reward\n",
        "        next_state = state + action\n",
        "        reward = rewards[state, action]\n",
        "\n",
        "        # Update the Q-value for the current state-action pair\n",
        "        Q[state, action] = (1 - learning_rate) * Q[state, action] + learning_rate * (reward + discount_factor * np.max(Q[next_state, :]))\n",
        "\n",
        "        # Move to the next state\n",
        "        state = next_state\n",
        "\n",
        "        # Check if the goal state is reached\n",
        "        if state == num_states - 1:\n",
        "            done = True\n",
        "\n",
        "# Print the learned Q-table\n",
        "print(\"Learned Q-Table:\")\n",
        "print(Q)\n",
        "\n",
        "# Extract the optimal policy from the learned Q-table\n",
        "optimal_policy = np.argmax(Q, axis=1)\n",
        "print(\"Optimal Policy:\")\n",
        "print(optimal_policy)\n"
      ]
    },
    {
      "cell_type": "code",
      "source": [],
      "metadata": {
        "id": "3HEpc-Q4yB1s"
      },
      "execution_count": null,
      "outputs": []
    }
  ]
}